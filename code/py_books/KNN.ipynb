{
 "cells": [
  {
   "cell_type": "code",
   "execution_count": 63,
   "metadata": {},
   "outputs": [],
   "source": [
    "import csv\n",
    "import ast\n",
    "import math\n",
    "import pickle\n",
    "import random\n",
    "import numpy as np\n",
    "import copy\n",
    "from collections import Counter\n",
    "import matplotlib.pyplot as plt\n",
    "from prettytable import PrettyTable\n",
    "from sklearn.externals import joblib\n",
    "from sklearn.metrics.pairwise import cosine_similarity\n",
    "from sklearn.feature_extraction.text import CountVectorizer\n",
    "from sklearn.feature_extraction.text import TfidfTransformer\n",
    "from sklearn.preprocessing import MinMaxScaler\n",
    "from sklearn.neighbors import KNeighborsClassifier"
   ]
  },
  {
   "cell_type": "code",
   "execution_count": 56,
   "metadata": {},
   "outputs": [],
   "source": [
    "import sklearn.preprocessing as prepr\n",
    "from sklearn.decomposition import PCA\n",
    "import warnings\n",
    "warnings.filterwarnings(\"ignore\")"
   ]
  },
  {
   "cell_type": "markdown",
   "metadata": {},
   "source": [
    "<h3> Load movie-features dictionary </h3>"
   ]
  },
  {
   "cell_type": "code",
   "execution_count": null,
   "metadata": {},
   "outputs": [],
   "source": [
    "movies_with_details_dic = pickle.load(open('movies_with_details_dic', 'rb'))"
   ]
  },
  {
   "cell_type": "code",
   "execution_count": null,
   "metadata": {},
   "outputs": [],
   "source": [
    "user_ratings = pickle.load(open(\"Dataset\\\\user_ratings_dict\",'rb'))"
   ]
  },
  {
   "cell_type": "code",
   "execution_count": 47,
   "metadata": {},
   "outputs": [
    {
     "data": {
      "text/plain": [
       "6000"
      ]
     },
     "execution_count": 47,
     "metadata": {},
     "output_type": "execute_result"
    }
   ],
   "source": [
    "len(user_ratings)"
   ]
  },
  {
   "cell_type": "markdown",
   "metadata": {},
   "source": [
    "<h3>Functions to generate movie docs for generating tf-idf vecctors</h3>"
   ]
  },
  {
   "cell_type": "code",
   "execution_count": 31,
   "metadata": {},
   "outputs": [],
   "source": [
    "def get_f_doc(movie_data, f1_features, a):\n",
    "    g1 = f1_features\n",
    "    l1 = []\n",
    "    mapping = []\n",
    "    for i in movie_data.keys():\n",
    "        mapping.append(i)\n",
    "        movie = movie_data[i]\n",
    "        temp_doc = ''\n",
    "        for j in range(len(g1)):\n",
    "            if g1[j] == 'actors':\n",
    "                for k in range(a):\n",
    "                    try:\n",
    "                        if len(temp_doc) == 0:\n",
    "                            temp_doc += movie[g1[j]][k]\n",
    "                        else:\n",
    "                            temp_doc += ' ' + movie[g1[j]][k]\n",
    "                    except:\n",
    "                        break\n",
    "            elif g1[j] == 'overview':\n",
    "                if len(temp_doc) == 0:\n",
    "                    temp_doc += movie[g1[j]]\n",
    "                else:\n",
    "                    temp_doc += ' ' + movie[g1[j]]\n",
    "            else:\n",
    "                for lm in range(len(movie[g1[j]])):\n",
    "                    if len(temp_doc) == 0:\n",
    "                        temp_doc += movie[g1[j]][lm]\n",
    "                    else:\n",
    "                        temp_doc += ' ' + movie[g1[j]][lm]\n",
    "        l1.append(temp_doc)\n",
    "    return l1, mapping"
   ]
  },
  {
   "cell_type": "markdown",
   "metadata": {},
   "source": [
    "<h3>Generate tf-idf vectors and similarity matrix from movie docs</h3>"
   ]
  },
  {
   "cell_type": "code",
   "execution_count": 14,
   "metadata": {},
   "outputs": [],
   "source": [
    "def get_tf_idf_vecs_from_docs(doc_data):\n",
    "    vectorizer = CountVectorizer()\n",
    "    X = vectorizer.fit_transform(doc_data)\n",
    "    Y = X.toarray()\n",
    "    transformer = TfidfTransformer(smooth_idf=False)\n",
    "    tfidf = transformer.fit_transform(Y)\n",
    "    tf_idf_vecs = tfidf.toarray()\n",
    "    return tf_idf_vecs"
   ]
  },
  {
   "cell_type": "code",
   "execution_count": 32,
   "metadata": {},
   "outputs": [],
   "source": [
    "f_features = ['actors','directors','keyterms','genres', 'countries', 'overview']\n",
    "f_docs, mapping = get_f_doc(movies_with_details_dic, f_features, 10)\n",
    "f_tf_idf_vecs = get_tf_idf_vecs_from_docs(f_docs)"
   ]
  },
  {
   "cell_type": "code",
   "execution_count": null,
   "metadata": {},
   "outputs": [],
   "source": [
    "with open(\"f_tf_idf_vecs\", 'wb') as fp:\n",
    "    pickle.dump(f_tf_idf_vecs, fp)"
   ]
  },
  {
   "cell_type": "code",
   "execution_count": 34,
   "metadata": {},
   "outputs": [],
   "source": [
    "with open(\"mapping\", 'wb') as fp:\n",
    "    pickle.dump(mapping, fp)"
   ]
  },
  {
   "cell_type": "markdown",
   "metadata": {},
   "source": [
    "<h3>Train, Test and Plot functions</h3>"
   ]
  },
  {
   "cell_type": "code",
   "execution_count": 51,
   "metadata": {},
   "outputs": [],
   "source": [
    "def user_pred_errors(user_ratings, k, mapping, f_tf_idf_vecs):\n",
    "    movie_ids = list(user_ratings.keys())\n",
    "    if len(movie_ids) < 5:\n",
    "        return []\n",
    "    np.random.shuffle(movie_ids)\n",
    "    train_pts = len(movie_ids) - int(0.2 * len(movie_ids))\n",
    "    \n",
    "    train_ratings = np.array([str(user_ratings[mid]) for mid in movie_ids[:train_pts]])\n",
    "    train_vecs = [f_tf_idf_vecs[mapping.index(mid)] for mid in movie_ids[:train_pts]]\n",
    "    \n",
    "    test_ratings = np.array([user_ratings[mid] for mid in movie_ids[train_pts:]])\n",
    "    test_vecs = [f_tf_idf_vecs[mapping.index(mid)] for mid in movie_ids[train_pts:]]\n",
    "    \n",
    "    errors = []\n",
    "    knn = KNeighborsClassifier(n_neighbors = k)\n",
    "    knn.fit(train_vecs, train_ratings)\n",
    "    predictions = knn.predict(test_vecs)\n",
    "    \n",
    "    errors = [(float(predictions[i]) - test_ratings[i])**2 for i in range(len(predictions))]\n",
    "    return errors"
   ]
  },
  {
   "cell_type": "code",
   "execution_count": 38,
   "metadata": {},
   "outputs": [],
   "source": [
    "def testing(test_user_dict, mapping, f_tf_idf_vecs): \n",
    "    k_rmses = []\n",
    "    for k in range(1,5):\n",
    "        error = []\n",
    "        for j in test_user_dict.keys():\n",
    "            error += user_pred_errors(test_user_dict[j], k, mapping, f_tf_idf_vecs)\n",
    "        error = np.array(error)\n",
    "        mean_all = np.mean(error)\n",
    "        rmse = mean_all ** 0.5\n",
    "        print(k, '  ', rmse)\n",
    "        k_rmses.append(rmse)\n",
    "    return k_rmses"
   ]
  },
  {
   "cell_type": "code",
   "execution_count": 1,
   "metadata": {},
   "outputs": [],
   "source": [
    "def get_plot(x, y, axis_names=['x-axis','y-axis'], title = '', dim_list = []):\n",
    "    plt.figure(figsize=(12,5))\n",
    "    plt.plot(x, y) \n",
    "    plt.xlabel(axis_names[0])\n",
    "    plt.ylabel(axis_names[1])\n",
    "    plt.xticks(x)\n",
    "    plt.title(title,fontweight='bold')\n",
    "    if dim_list:\n",
    "        for i, txt in enumerate(dim_list):\n",
    "            plt.annotate(txt, (x[i], y[i]))\n",
    "    plt.grid()\n",
    "    plt.show()"
   ]
  },
  {
   "cell_type": "code",
   "execution_count": 45,
   "metadata": {},
   "outputs": [
    {
     "data": {
      "text/plain": [
       "1.0"
      ]
     },
     "execution_count": 45,
     "metadata": {},
     "output_type": "execute_result"
    }
   ],
   "source": [
    "np.linalg.norm(f_tf_idf_vecs[0])"
   ]
  },
  {
   "cell_type": "code",
   "execution_count": 43,
   "metadata": {},
   "outputs": [],
   "source": [
    "normalized_tfidf = prepr.normalize(f_tf_idf_vecs)"
   ]
  },
  {
   "cell_type": "code",
   "execution_count": 52,
   "metadata": {},
   "outputs": [
    {
     "name": "stdout",
     "output_type": "stream",
     "text": [
      "1    1.3335983658152513\n",
      "2    1.3780396639049404\n",
      "3    1.4170260955940301\n",
      "4    1.3586000907512148\n"
     ]
    }
   ],
   "source": [
    "k_rmses = testing(user_ratings, mapping, normalized_tfidf)"
   ]
  },
  {
   "cell_type": "code",
   "execution_count": 109,
   "metadata": {},
   "outputs": [
    {
     "name": "stdout",
     "output_type": "stream",
     "text": [
      "+---+-------------+-----------+\n",
      "| K | Feature Dim | Test RMSE |\n",
      "+---+-------------+-----------+\n",
      "| 1 |    52257    |   1.3336  |\n",
      "| 2 |    52257    |   1.378   |\n",
      "| 3 |    52257    |   1.417   |\n",
      "| 4 |    52257    |   1.3586  |\n",
      "+---+-------------+-----------+\n"
     ]
    }
   ],
   "source": [
    "x = PrettyTable()\n",
    "x.field_names = [\"K\", \"Feature Dim\", \"Test RMSE\"]\n",
    "for i in range(4):\n",
    "    x.add_row([str(i+1), normalized_tfidf.shape[1], round(k_rmses[i], 4)])\n",
    "print(x)"
   ]
  },
  {
   "cell_type": "code",
   "execution_count": 58,
   "metadata": {},
   "outputs": [],
   "source": [
    "def get_test_data_pca(tf_idf_vecs, eig_energy_all, evecs_all, mapping, user_rating):\n",
    "    eig_energy = np.arange(0.50, 1.0, 0.05)\n",
    "    eig_energy = np.append(eig_energy, [0.99])\n",
    "    best_test_rmse = math.inf\n",
    "    k_val, test_rmse_list, eig_en_list, dim_list = [], [], [], []\n",
    "    \n",
    "    for lambda_val in eig_energy:\n",
    "        count = 0\n",
    "        lambda_val_first = eig_energy_all[0]\n",
    "        while lambda_val_first < lambda_val:\n",
    "            count += 1\n",
    "            lambda_val_first += eig_energy_all[count]\n",
    "        eig_vecs = evecs_all[:count + 1]\n",
    "        pca_transformed = np.matmul(tf_idf_vecs, eig_vecs.T)\n",
    "        normalized_pca_transformed = prepr.normalize(pca_transformed)\n",
    "        k_rmses = testing(user_rating, mapping, normalized_pca_transformed)\n",
    "        print(\"Eigen energy: %8.5f\" %(lambda_val_first))\n",
    "        test_rmse = min(k_rmses)\n",
    "        if test_rmse < best_test_rmse:\n",
    "            best_test_rmse = test_rmse\n",
    "            best_pca_transformed = copy.deepcopy(normalized_pca_transformed)\n",
    "        eig_en_list += [round(lambda_val_first,4) for i in range(4)]\n",
    "        k_val += [1,2,3,4]\n",
    "        test_rmse_list += k_rmses\n",
    "        dim_list.append(normalized_pca_transformed.shape[1])\n",
    "        \n",
    "        print(\"---------------------------------------------------------------------\")\n",
    "    \n",
    "    with open(\"best_pca_transformed\", 'wb') as bpt:\n",
    "        pickle.dump(best_pca_transformed, bpt)\n",
    "    \n",
    "    return k_val, test_rmse_list, eig_en_list, dim_list"
   ]
  },
  {
   "cell_type": "code",
   "execution_count": null,
   "metadata": {},
   "outputs": [],
   "source": []
  },
  {
   "cell_type": "code",
   "execution_count": 59,
   "metadata": {},
   "outputs": [],
   "source": [
    "pca = PCA(n_components=0.99).fit(f_tf_idf_vecs)"
   ]
  },
  {
   "cell_type": "code",
   "execution_count": 60,
   "metadata": {},
   "outputs": [],
   "source": [
    "evecs_all = pca.components_\n",
    "eig_energy_all = pca.explained_variance_ratio_"
   ]
  },
  {
   "cell_type": "code",
   "execution_count": null,
   "metadata": {},
   "outputs": [],
   "source": []
  },
  {
   "cell_type": "code",
   "execution_count": 61,
   "metadata": {},
   "outputs": [
    {
     "name": "stdout",
     "output_type": "stream",
     "text": [
      "1    1.3271361598411513\n",
      "2    1.3779746952333651\n",
      "3    1.4118428999095993\n",
      "4    1.360177036019217\n",
      "Eigen energy:  0.50007\n",
      "---------------------------------------------------------------------\n",
      "1    1.333866867296782\n",
      "2    1.3807926036262186\n",
      "3    1.4171349009150025\n",
      "4    1.3613795537440028\n",
      "Eigen energy:  0.55001\n",
      "---------------------------------------------------------------------\n",
      "1    1.3214574533636918\n",
      "2    1.3699146697700038\n",
      "3    1.4219613136085425\n",
      "4    1.3610927273270619\n",
      "Eigen energy:  0.60019\n",
      "---------------------------------------------------------------------\n",
      "1    1.3350185729659099\n",
      "2    1.3770034093292842\n",
      "3    1.41821197390536\n",
      "4    1.3662118052486925\n",
      "Eigen energy:  0.65014\n",
      "---------------------------------------------------------------------\n",
      "1    1.330446891253927\n",
      "2    1.3751437787458662\n",
      "3    1.4251058581688267\n",
      "4    1.357693708445528\n",
      "Eigen energy:  0.70017\n",
      "---------------------------------------------------------------------\n",
      "1    1.327359130626841\n",
      "2    1.3773320622640606\n",
      "3    1.425564730292755\n",
      "4    1.3690739064972117\n",
      "Eigen energy:  0.75003\n",
      "---------------------------------------------------------------------\n",
      "1    1.3304749289359559\n",
      "2    1.3727255724921372\n",
      "3    1.4246608030085055\n",
      "4    1.3602757629251707\n",
      "Eigen energy:  0.80004\n",
      "---------------------------------------------------------------------\n",
      "1    1.3307365854817095\n",
      "2    1.3683980161744105\n",
      "3    1.4225208517875905\n",
      "4    1.3622634028937282\n",
      "Eigen energy:  0.85004\n",
      "---------------------------------------------------------------------\n",
      "1    1.3304674522785205\n",
      "2    1.3804287446368164\n",
      "3    1.422130946871398\n",
      "4    1.3636026925171236\n",
      "Eigen energy:  0.90008\n",
      "---------------------------------------------------------------------\n",
      "1    1.325108967318006\n",
      "2    1.3749792005719255\n",
      "3    1.417634946983686\n",
      "4    1.3653323335467344\n",
      "Eigen energy:  0.95002\n",
      "---------------------------------------------------------------------\n",
      "1    1.3313998412061552\n",
      "2    1.3729393280606872\n",
      "3    1.4233405274922701\n",
      "4    1.3636191061612066\n",
      "Eigen energy:  0.99008\n",
      "---------------------------------------------------------------------\n"
     ]
    }
   ],
   "source": [
    "k_val, test_rmse_list, eig_en_list, dim_list = get_test_data_pca(f_tf_idf_vecs, eig_energy_all, evecs_all, mapping, user_ratings)"
   ]
  },
  {
   "cell_type": "code",
   "execution_count": 78,
   "metadata": {},
   "outputs": [
    {
     "name": "stdout",
     "output_type": "stream",
     "text": [
      "+--------+-----------+-------------+--------+-----------+\n",
      "| Index  | Var Ratio | Feature Dim |   K    | Test RMSE |\n",
      "+--------+-----------+-------------+--------+-----------+\n",
      "|   1    |    0.5    |     1189    |   1    |   1.3271  |\n",
      "|   2    |    0.5    |     1393    |   2    |   1.378   |\n",
      "|   3    |    0.5    |     1614    |   3    |   1.4118  |\n",
      "|   4    |    0.5    |     1851    |   4    |   1.3602  |\n",
      "| ------ |   ------  |    ------   | ------ |   ------  |\n",
      "|   5    |    0.55   |     1189    |   1    |   1.3339  |\n",
      "|   6    |    0.55   |     1393    |   2    |   1.3808  |\n",
      "|   7    |    0.55   |     1614    |   3    |   1.4171  |\n",
      "|   8    |    0.55   |     1851    |   4    |   1.3614  |\n",
      "| ------ |   ------  |    ------   | ------ |   ------  |\n",
      "|   9    |    0.6    |     1189    |   1    |   1.3215  |\n",
      "|   10   |    0.6    |     1393    |   2    |   1.3699  |\n",
      "|   11   |    0.6    |     1614    |   3    |   1.422   |\n",
      "|   12   |    0.6    |     1851    |   4    |   1.3611  |\n",
      "| ------ |   ------  |    ------   | ------ |   ------  |\n",
      "|   13   |    0.65   |     1189    |   1    |   1.335   |\n",
      "|   14   |    0.65   |     1393    |   2    |   1.377   |\n",
      "|   15   |    0.65   |     1614    |   3    |   1.4182  |\n",
      "|   16   |    0.65   |     1851    |   4    |   1.3662  |\n",
      "| ------ |   ------  |    ------   | ------ |   ------  |\n",
      "|   17   |    0.7    |     1189    |   1    |   1.3304  |\n",
      "|   18   |    0.7    |     1393    |   2    |   1.3751  |\n",
      "|   19   |    0.7    |     1614    |   3    |   1.4251  |\n",
      "|   20   |    0.7    |     1851    |   4    |   1.3577  |\n",
      "| ------ |   ------  |    ------   | ------ |   ------  |\n",
      "|   21   |    0.75   |     1189    |   1    |   1.3274  |\n",
      "|   22   |    0.75   |     1393    |   2    |   1.3773  |\n",
      "|   23   |    0.75   |     1614    |   3    |   1.4256  |\n",
      "|   24   |    0.75   |     1851    |   4    |   1.3691  |\n",
      "| ------ |   ------  |    ------   | ------ |   ------  |\n",
      "|   25   |    0.8    |     1189    |   1    |   1.3305  |\n",
      "|   26   |    0.8    |     1393    |   2    |   1.3727  |\n",
      "|   27   |    0.8    |     1614    |   3    |   1.4247  |\n",
      "|   28   |    0.8    |     1851    |   4    |   1.3603  |\n",
      "| ------ |   ------  |    ------   | ------ |   ------  |\n",
      "|   29   |    0.85   |     1189    |   1    |   1.3307  |\n",
      "|   30   |    0.85   |     1393    |   2    |   1.3684  |\n",
      "|   31   |    0.85   |     1614    |   3    |   1.4225  |\n",
      "|   32   |    0.85   |     1851    |   4    |   1.3623  |\n",
      "| ------ |   ------  |    ------   | ------ |   ------  |\n",
      "|   33   |    0.9    |     1189    |   1    |   1.3305  |\n",
      "|   34   |    0.9    |     1393    |   2    |   1.3804  |\n",
      "|   35   |    0.9    |     1614    |   3    |   1.4221  |\n",
      "|   36   |    0.9    |     1851    |   4    |   1.3636  |\n",
      "| ------ |   ------  |    ------   | ------ |   ------  |\n",
      "|   37   |    0.95   |     1189    |   1    |   1.3251  |\n",
      "|   38   |    0.95   |     1393    |   2    |   1.375   |\n",
      "|   39   |    0.95   |     1614    |   3    |   1.4176  |\n",
      "|   40   |    0.95   |     1851    |   4    |   1.3653  |\n",
      "| ------ |   ------  |    ------   | ------ |   ------  |\n",
      "|   41   |    0.99   |     1189    |   1    |   1.3314  |\n",
      "|   42   |    0.99   |     1393    |   2    |   1.3729  |\n",
      "|   43   |    0.99   |     1614    |   3    |   1.4233  |\n",
      "|   44   |    0.99   |     1851    |   4    |   1.3636  |\n",
      "+--------+-----------+-------------+--------+-----------+\n"
     ]
    }
   ],
   "source": [
    "x = PrettyTable()\n",
    "x.field_names = [\"Index\", \"Var Ratio\", \"Feature Dim\", \"K\", \"Test RMSE\"]\n",
    "for i in range(len(k_val)):\n",
    "    if int(i % 4) == 0 and i != 0:\n",
    "        x.add_row(['------', '------', '------', '------', '------'])\n",
    "    x.add_row([str(i+1),  round(eig_en_list[i], 2), dim_list[int(i % 4)], k_val[i], round(test_rmse_list[i], 4)])\n",
    "print(x)"
   ]
  },
  {
   "cell_type": "code",
   "execution_count": 2,
   "metadata": {},
   "outputs": [
    {
     "ename": "NameError",
     "evalue": "name 'threshold_var_list' is not defined",
     "output_type": "error",
     "traceback": [
      "\u001b[1;31m---------------------------------------------------------------------------\u001b[0m",
      "\u001b[1;31mNameError\u001b[0m                                 Traceback (most recent call last)",
      "\u001b[1;32m<ipython-input-2-8d0f0e3a39b5>\u001b[0m in \u001b[0;36m<module>\u001b[1;34m\u001b[0m\n\u001b[1;32m----> 1\u001b[1;33m \u001b[0mget_plot\u001b[0m\u001b[1;33m(\u001b[0m\u001b[0mthreshold_var_list\u001b[0m\u001b[1;33m,\u001b[0m \u001b[0mtest_rmse_list\u001b[0m\u001b[1;33m,\u001b[0m \u001b[0maxis_names\u001b[0m\u001b[1;33m=\u001b[0m\u001b[1;33m[\u001b[0m\u001b[1;34m'Variance ratio'\u001b[0m\u001b[1;33m,\u001b[0m\u001b[1;34m'RMSE'\u001b[0m\u001b[1;33m]\u001b[0m\u001b[1;33m,\u001b[0m \u001b[0mtitle\u001b[0m \u001b[1;33m=\u001b[0m \u001b[1;34m'Test RMSE vs Variance ratio of eigenvectors of F2 tf-idf vectors'\u001b[0m\u001b[1;33m,\u001b[0m \u001b[0mdim_list\u001b[0m \u001b[1;33m=\u001b[0m \u001b[0mdim_list\u001b[0m\u001b[1;33m)\u001b[0m\u001b[1;33m\u001b[0m\u001b[1;33m\u001b[0m\u001b[0m\n\u001b[0m",
      "\u001b[1;31mNameError\u001b[0m: name 'threshold_var_list' is not defined"
     ]
    }
   ],
   "source": [
    "get_plot(threshold_var_list, test_rmse_list, axis_names=['Variance ratio','RMSE'], title = 'Test RMSE vs Variance ratio of eigenvectors of F2 tf-idf vectors', dim_list = dim_list)"
   ]
  },
  {
   "cell_type": "code",
   "execution_count": 101,
   "metadata": {},
   "outputs": [],
   "source": [
    "k_1_rmses = []\n",
    "var_ratio_1_list = []\n",
    "for i in range(44):\n",
    "    if i % 4 == 1:\n",
    "        k_1_rmses.append(test_rmse_list[i])\n",
    "        var_ratio_1_list.append(round(eig_en_list[i],2))"
   ]
  },
  {
   "cell_type": "code",
   "execution_count": 3,
   "metadata": {},
   "outputs": [
    {
     "ename": "NameError",
     "evalue": "name 'var_ratio_1_list' is not defined",
     "output_type": "error",
     "traceback": [
      "\u001b[1;31m---------------------------------------------------------------------------\u001b[0m",
      "\u001b[1;31mNameError\u001b[0m                                 Traceback (most recent call last)",
      "\u001b[1;32m<ipython-input-3-08666a1fef40>\u001b[0m in \u001b[0;36m<module>\u001b[1;34m\u001b[0m\n\u001b[1;32m----> 1\u001b[1;33m \u001b[0mget_plot\u001b[0m\u001b[1;33m(\u001b[0m\u001b[0mvar_ratio_1_list\u001b[0m\u001b[1;33m,\u001b[0m \u001b[0mk_1_rmses\u001b[0m\u001b[1;33m,\u001b[0m \u001b[0maxis_names\u001b[0m\u001b[1;33m=\u001b[0m\u001b[1;33m[\u001b[0m\u001b[1;34m'Variance ratio'\u001b[0m\u001b[1;33m,\u001b[0m\u001b[1;34m'RMSE'\u001b[0m\u001b[1;33m]\u001b[0m\u001b[1;33m,\u001b[0m \u001b[0mtitle\u001b[0m \u001b[1;33m=\u001b[0m \u001b[1;34m'Test RMSE vs Variance ratio for K = 1'\u001b[0m\u001b[1;33m,\u001b[0m  \u001b[0mdim_list\u001b[0m \u001b[1;33m=\u001b[0m \u001b[0mdim_list\u001b[0m\u001b[1;33m)\u001b[0m\u001b[1;33m\u001b[0m\u001b[1;33m\u001b[0m\u001b[0m\n\u001b[0m",
      "\u001b[1;31mNameError\u001b[0m: name 'var_ratio_1_list' is not defined"
     ]
    }
   ],
   "source": [
    "get_plot(var_ratio_1_list, k_1_rmses, axis_names=['Variance ratio','RMSE'], title = 'Test RMSE vs Variance ratio for K = 1',  dim_list = dim_list)"
   ]
  },
  {
   "cell_type": "code",
   "execution_count": 4,
   "metadata": {},
   "outputs": [
    {
     "ename": "NameError",
     "evalue": "name 'test_rmse_list' is not defined",
     "output_type": "error",
     "traceback": [
      "\u001b[1;31m---------------------------------------------------------------------------\u001b[0m",
      "\u001b[1;31mNameError\u001b[0m                                 Traceback (most recent call last)",
      "\u001b[1;32m<ipython-input-4-14550064764f>\u001b[0m in \u001b[0;36m<module>\u001b[1;34m\u001b[0m\n\u001b[0;32m      3\u001b[0m \u001b[1;32mfor\u001b[0m \u001b[0mi\u001b[0m \u001b[1;32min\u001b[0m \u001b[0mrange\u001b[0m\u001b[1;33m(\u001b[0m\u001b[1;36m44\u001b[0m\u001b[1;33m)\u001b[0m\u001b[1;33m:\u001b[0m\u001b[1;33m\u001b[0m\u001b[1;33m\u001b[0m\u001b[0m\n\u001b[0;32m      4\u001b[0m     \u001b[1;32mif\u001b[0m \u001b[0mi\u001b[0m \u001b[1;33m%\u001b[0m \u001b[1;36m4\u001b[0m \u001b[1;33m==\u001b[0m \u001b[1;36m3\u001b[0m\u001b[1;33m:\u001b[0m\u001b[1;33m\u001b[0m\u001b[1;33m\u001b[0m\u001b[0m\n\u001b[1;32m----> 5\u001b[1;33m         \u001b[0mk_4_rmses\u001b[0m\u001b[1;33m.\u001b[0m\u001b[0mappend\u001b[0m\u001b[1;33m(\u001b[0m\u001b[0mtest_rmse_list\u001b[0m\u001b[1;33m[\u001b[0m\u001b[0mi\u001b[0m\u001b[1;33m]\u001b[0m\u001b[1;33m)\u001b[0m\u001b[1;33m\u001b[0m\u001b[1;33m\u001b[0m\u001b[0m\n\u001b[0m\u001b[0;32m      6\u001b[0m         \u001b[0mvar_ratio_4_list\u001b[0m\u001b[1;33m.\u001b[0m\u001b[0mappend\u001b[0m\u001b[1;33m(\u001b[0m\u001b[0mround\u001b[0m\u001b[1;33m(\u001b[0m\u001b[0meig_en_list\u001b[0m\u001b[1;33m[\u001b[0m\u001b[0mi\u001b[0m\u001b[1;33m]\u001b[0m\u001b[1;33m,\u001b[0m\u001b[1;36m2\u001b[0m\u001b[1;33m)\u001b[0m\u001b[1;33m)\u001b[0m\u001b[1;33m\u001b[0m\u001b[1;33m\u001b[0m\u001b[0m\n",
      "\u001b[1;31mNameError\u001b[0m: name 'test_rmse_list' is not defined"
     ]
    }
   ],
   "source": [
    "k_4_rmses = []\n",
    "var_ratio_4_list = []\n",
    "for i in range(44):\n",
    "    if i % 4 == 3:\n",
    "        k_4_rmses.append(test_rmse_list[i])\n",
    "        var_ratio_4_list.append(round(eig_en_list[i],2))"
   ]
  },
  {
   "cell_type": "code",
   "execution_count": 106,
   "metadata": {},
   "outputs": [
    {
     "data": {
      "image/png": "[encoded data removed]",
      "text/plain": [
       "<Figure size 864x360 with 1 Axes>"
      ]
     },
     "metadata": {
      "needs_background": "light"
     },
     "output_type": "display_data"
    }
   ],
   "source": [
    "get_plot(var_ratio_4_list, k_4_rmses, axis_names=['x-axis','y-axis'], title = 'Test RMSE vs Variance ratio for K = 4')"
   ]
  },
  {
   "cell_type": "code",
   "execution_count": null,
   "metadata": {},
   "outputs": [],
   "source": []
  },
  {
   "cell_type": "code",
   "execution_count": null,
   "metadata": {},
   "outputs": [],
   "source": []
  },
  {
   "cell_type": "code",
   "execution_count": null,
   "metadata": {},
   "outputs": [],
   "source": []
  },
  {
   "cell_type": "code",
   "execution_count": null,
   "metadata": {},
   "outputs": [],
   "source": []
  }
 ],
 "metadata": {
  "kernelspec": {
   "display_name": "Python 3",
   "language": "python",
   "name": "python3"
  },
  "language_info": {
   "codemirror_mode": {
    "name": "ipython",
    "version": 3
   },
   "file_extension": ".py",
   "mimetype": "text/x-python",
   "name": "python",
   "nbconvert_exporter": "python",
   "pygments_lexer": "ipython3",
   "version": "3.6.8"
  }
 },
 "nbformat": 4,
 "nbformat_minor": 2
}
