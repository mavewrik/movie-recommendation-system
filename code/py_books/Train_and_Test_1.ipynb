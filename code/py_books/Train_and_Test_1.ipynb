{
 "cells": [
  {
   "cell_type": "code",
   "execution_count": 12,
   "metadata": {},
   "outputs": [],
   "source": [
    "import ast\n",
    "import math\n",
    "import pickle\n",
    "import matplotlib.pyplot as plt\n",
    "import numpy as np \n",
    "from collections import Counter\n",
    "from sklearn.externals import joblib\n",
    "from sklearn.metrics.pairwise import cosine_similarity"
   ]
  },
  {
   "cell_type": "code",
   "execution_count": 44,
   "metadata": {},
   "outputs": [],
   "source": [
    "actor_dir_genr_sim_matr = pickle.load(open(\"actor_dir_genr_sim_matr1\",'rb'))"
   ]
  },
  {
   "cell_type": "code",
   "execution_count": 45,
   "metadata": {},
   "outputs": [],
   "source": [
    "overview_sim_matr = pickle.load(open(\"overview_sim_matr1\",'rb'))"
   ]
  },
  {
   "cell_type": "code",
   "execution_count": 46,
   "metadata": {},
   "outputs": [
    {
     "data": {
      "text/plain": [
       "(4320, 4320)"
      ]
     },
     "execution_count": 46,
     "metadata": {},
     "output_type": "execute_result"
    }
   ],
   "source": [
    "actor_dir_genr_sim_matr.shape"
   ]
  },
  {
   "cell_type": "code",
   "execution_count": 47,
   "metadata": {},
   "outputs": [
    {
     "data": {
      "text/plain": [
       "array([0.0015194 , 0.00160716, 0.00162261, ..., 0.26253826, 0.33844409,\n",
       "       1.        ])"
      ]
     },
     "execution_count": 47,
     "metadata": {},
     "output_type": "execute_result"
    }
   ],
   "source": [
    "np.unique(actor_dir_genr_sim_matr[0])"
   ]
  },
  {
   "cell_type": "code",
   "execution_count": 40,
   "metadata": {},
   "outputs": [
    {
     "data": {
      "text/plain": [
       "0.001519396145393318"
      ]
     },
     "execution_count": 40,
     "metadata": {},
     "output_type": "execute_result"
    }
   ],
   "source": [
    "min(np.unique(actor_dir_genr_sim_matr[0]))"
   ]
  },
  {
   "cell_type": "code",
   "execution_count": 48,
   "metadata": {},
   "outputs": [
    {
     "data": {
      "text/plain": [
       "[(0.010811085186612687, 29),\n",
       " (0.004145314314226262, 9),\n",
       " (0.003309740739386037, 9),\n",
       " (0.005473775391692044, 8),\n",
       " (0.0063116695092392296, 7),\n",
       " (0.007708517277661395, 7),\n",
       " (0.003353318946506622, 6),\n",
       " (0.003331316088360451, 5),\n",
       " (0.059482534757531416, 5),\n",
       " (0.004900044799445114, 4),\n",
       " (0.003169244370024012, 4),\n",
       " (0.004616734245653342, 3),\n",
       " (0.004187940519166301, 3),\n",
       " (0.010811085186612689, 3),\n",
       " (0.011642720563664579, 3),\n",
       " (0.005077561861228286, 3),\n",
       " (0.005044890989448075, 3),\n",
       " (0.0034956521596870432, 3),\n",
       " (0.003657797972453537, 3),\n",
       " (0.009438885228640479, 3),\n",
       " (0.00394942815711956, 2),\n",
       " (0.003509563559868261, 2),\n",
       " (0.004475640182267781, 2),\n",
       " (0.003375763621207766, 2),\n",
       " (0.006465276520422726, 2),\n",
       " (0.009116214936930107, 2),\n",
       " (0.005677959270289046, 2),\n",
       " (0.003969524049702331, 2),\n",
       " (0.004053348709693707, 2),\n",
       " (0.0032581958435839034, 2),\n",
       " (0.005573063984245593, 2),\n",
       " (0.0035471120037217294, 2),\n",
       " (0.003234546666627228, 2),\n",
       " (0.007708517277661397, 2),\n",
       " (0.003878764020086118, 2),\n",
       " (0.003913617703924641, 2),\n",
       " (0.012609734265806784, 2),\n",
       " (0.003388287167655509, 2),\n",
       " (0.008505090894360327, 2),\n",
       " (0.004277292753458338, 2),\n",
       " (0.003481968301014873, 2),\n",
       " (0.0034114462308353017, 2),\n",
       " (0.003933169196225979, 2),\n",
       " (0.0033578624326786287, 2),\n",
       " (0.0042867339199803844, 2),\n",
       " (0.004585203272815064, 2),\n",
       " (0.0037168804798792237, 2),\n",
       " (0.003343349685742258, 2),\n",
       " (0.004750231058669222, 2),\n",
       " (0.0036869842331979765, 2),\n",
       " (0.0033655934452234528, 2),\n",
       " (0.0034727050216591085, 2),\n",
       " (0.003444051478590888, 2),\n",
       " (1.0, 1),\n",
       " (0.3384440921243643, 1),\n",
       " (0.0022248913305497457, 1),\n",
       " (0.011199683588053707, 1),\n",
       " (0.0030931734055675464, 1),\n",
       " (0.028681333567451013, 1),\n",
       " (0.003303106379433447, 1),\n",
       " (0.0031018672482871945, 1),\n",
       " (0.00390085927719084, 1),\n",
       " (0.0025101838859805476, 1),\n",
       " (0.0020718259336850514, 1),\n",
       " (0.011383112851897168, 1),\n",
       " (0.011033934489035419, 1),\n",
       " (0.0025027893652485754, 1),\n",
       " (0.08585213356233627, 1),\n",
       " (0.002392901320428648, 1),\n",
       " (0.008023008733849469, 1)]"
      ]
     },
     "execution_count": 48,
     "metadata": {},
     "output_type": "execute_result"
    }
   ],
   "source": [
    "Counter(actor_dir_genr_sim_matr[0]).most_common(70)"
   ]
  },
  {
   "cell_type": "code",
   "execution_count": 41,
   "metadata": {},
   "outputs": [
    {
     "data": {
      "text/plain": [
       "[(0.0, 109),\n",
       " (1.0000000000000002, 1),\n",
       " (0.02349545946490282, 1),\n",
       " (0.00890460175667191, 1),\n",
       " (0.026995355783626464, 1),\n",
       " (0.016487382077914867, 1),\n",
       " (0.03600312708400116, 1),\n",
       " (0.023439036784577184, 1),\n",
       " (0.010740328759893586, 1),\n",
       " (0.08205200599743329, 1),\n",
       " (0.026334630816362094, 1),\n",
       " (0.029737401560651123, 1),\n",
       " (0.09076327087017216, 1),\n",
       " (0.037977834311850985, 1),\n",
       " (0.05359032286845933, 1),\n",
       " (0.04724338872302486, 1),\n",
       " (0.02957425717049895, 1),\n",
       " (0.026966308001626135, 1),\n",
       " (0.018670748246252047, 1),\n",
       " (0.02994490838210471, 1),\n",
       " (0.02768012165572841, 1),\n",
       " (0.022235590542849955, 1),\n",
       " (0.02177409480528507, 1),\n",
       " (0.03229465840579511, 1),\n",
       " (0.04749945083627816, 1),\n",
       " (0.043078026137633944, 1),\n",
       " (0.0325864138426256, 1),\n",
       " (0.032644701614421776, 1),\n",
       " (0.020022909366491926, 1),\n",
       " (0.017303014204078364, 1),\n",
       " (0.02242594008046674, 1),\n",
       " (0.031029665197814874, 1),\n",
       " (0.0419954440413144, 1),\n",
       " (0.0032124019182862553, 1),\n",
       " (0.015169880932383587, 1),\n",
       " (0.04770566533322845, 1),\n",
       " (0.05550126504060099, 1),\n",
       " (0.010383125243975676, 1),\n",
       " (0.022056649620960662, 1),\n",
       " (0.061910435608940224, 1),\n",
       " (0.011207031666973833, 1),\n",
       " (0.039646896949371166, 1),\n",
       " (0.02105042406210486, 1),\n",
       " (0.03136311297510186, 1),\n",
       " (0.04410186382162917, 1),\n",
       " (0.04669899666261022, 1),\n",
       " (0.009644277338493946, 1),\n",
       " (0.049157233640591484, 1),\n",
       " (0.017894312335082378, 1),\n",
       " (0.07155439338323955, 1),\n",
       " (0.045416333908378084, 1),\n",
       " (0.05804102452459782, 1),\n",
       " (0.05589688894128428, 1),\n",
       " (0.05075843365522518, 1),\n",
       " (0.04532325453874719, 1),\n",
       " (0.09922209150258861, 1),\n",
       " (0.02086878079079004, 1),\n",
       " (0.11562619394825728, 1),\n",
       " (0.04650088785415411, 1),\n",
       " (0.00971439523537764, 1),\n",
       " (0.011339756715817913, 1),\n",
       " (0.024176435024551315, 1),\n",
       " (0.02626067057575036, 1),\n",
       " (0.0136548652440651, 1),\n",
       " (0.025708613717823525, 1),\n",
       " (0.020772531750885417, 1),\n",
       " (0.01831137851237289, 1),\n",
       " (0.012477603712048141, 1),\n",
       " (0.035219663939589245, 1),\n",
       " (0.05002513122148165, 1)]"
      ]
     },
     "execution_count": 41,
     "metadata": {},
     "output_type": "execute_result"
    }
   ],
   "source": [
    "Counter(overview_sim_matr[0]).most_common(70)"
   ]
  },
  {
   "cell_type": "code",
   "execution_count": 4,
   "metadata": {},
   "outputs": [],
   "source": [
    "all_doc = pickle.load(open(\"all_doc_1\",'rb'))"
   ]
  },
  {
   "cell_type": "code",
   "execution_count": 5,
   "metadata": {},
   "outputs": [],
   "source": [
    "actor_dir_genr_key_docs, overview_docs, mapping = all_doc[0], all_doc[1], all_doc[2] "
   ]
  },
  {
   "cell_type": "code",
   "execution_count": 6,
   "metadata": {},
   "outputs": [
    {
     "data": {
      "text/plain": [
       "4320"
      ]
     },
     "execution_count": 6,
     "metadata": {},
     "output_type": "execute_result"
    }
   ],
   "source": [
    "# mapping.index(832)\n",
    "len(actor_dir_genr_key_docs)"
   ]
  },
  {
   "cell_type": "code",
   "execution_count": 7,
   "metadata": {},
   "outputs": [],
   "source": [
    "train_and_test_dict = pickle.load(open(\"train_and_test_dict_1\",'rb'))"
   ]
  },
  {
   "cell_type": "code",
   "execution_count": 8,
   "metadata": {},
   "outputs": [],
   "source": [
    "train_dict, test_dict = train_and_test_dict[0], train_and_test_dict[1]"
   ]
  },
  {
   "cell_type": "code",
   "execution_count": 9,
   "metadata": {},
   "outputs": [
    {
     "data": {
      "text/plain": [
       "5100"
      ]
     },
     "execution_count": 9,
     "metadata": {},
     "output_type": "execute_result"
    }
   ],
   "source": [
    "len(train_dict)"
   ]
  },
  {
   "cell_type": "code",
   "execution_count": 10,
   "metadata": {},
   "outputs": [
    {
     "data": {
      "text/plain": [
       "900"
      ]
     },
     "execution_count": 10,
     "metadata": {},
     "output_type": "execute_result"
    }
   ],
   "source": [
    "len(test_dict)"
   ]
  },
  {
   "cell_type": "code",
   "execution_count": 13,
   "metadata": {},
   "outputs": [],
   "source": [
    "def user_pred_errors(user_ratings, ratio, sim_matr_1, sim_matr_2, mapping):\n",
    "    movie_ids = list(user_ratings.keys())\n",
    "    np.random.shuffle(movie_ids)\n",
    "    train_pts = len(movie_ids) - int(0.2 * len(movie_ids))\n",
    "    \n",
    "    train_ratings = np.array([user_ratings[mid] for mid in movie_ids[:train_pts]])\n",
    "    train_ind = [mapping.index(mid) for mid in movie_ids[:train_pts]]\n",
    "    \n",
    "    test_ratings = np.array([user_ratings[mid] for mid in movie_ids[train_pts:]])\n",
    "    test_ind = [mapping.index(mid) for mid in movie_ids[train_pts:]]\n",
    "    \n",
    "    user_mean = np.mean(train_ratings)\n",
    "    errors = []\n",
    "    for i in range(len(test_ratings)):\n",
    "        pred = 0\n",
    "        sim_sum = 0\n",
    "        for j in range(len(train_ratings)):\n",
    "            pred += ((sim_matr_1[test_ind[i]][train_ind[j]] * ratio) + (sim_matr_2[test_ind[i]][train_ind[j]] * (1-ratio))) * (train_ratings[j] - user_mean)\n",
    "            sim_sum += ((sim_matr_1[test_ind[i]][train_ind[j]] * ratio) + (sim_matr_2[test_ind[i]][train_ind[j]] * (1-ratio)))\n",
    "        pred = pred / sim_sum\n",
    "        pred = pred + user_mean\n",
    "        error = (pred - test_ratings[i])**2\n",
    "        errors.append(error)\n",
    "    return errors    "
   ]
  },
  {
   "cell_type": "code",
   "execution_count": 14,
   "metadata": {},
   "outputs": [],
   "source": [
    "def training(train_user_dict, sim_matr_1, sim_matr_2, mapping, start, incr): \n",
    "    a = []\n",
    "    rmse = []\n",
    "    print(\"Tested for alpha: \", end='')\n",
    "    for alpha in np.arange(start, 1.0, incr):\n",
    "        alpha = round(alpha,3)\n",
    "        error = []\n",
    "        for j in train_user_dict.keys():\n",
    "            error += user_pred_errors(train_user_dict[j], alpha, sim_matr_1, sim_matr_2, mapping)\n",
    "        \n",
    "        error = np.array(error)\n",
    "        mean_all = np.mean(error)\n",
    "        sv = mean_all ** 0.5\n",
    "        rmse.append(sv)\n",
    "        a.append(alpha)\n",
    "        print(alpha, end=' ')\n",
    "    print()\n",
    "    return a, rmse "
   ]
  },
  {
   "cell_type": "code",
   "execution_count": 19,
   "metadata": {},
   "outputs": [
    {
     "name": "stderr",
     "output_type": "stream",
     "text": [
      "C:\\ProgramData\\Anaconda3\\lib\\site-packages\\ipykernel_launcher.py:20: RuntimeWarning: invalid value encountered in double_scalars\n"
     ]
    },
    {
     "name": "stdout",
     "output_type": "stream",
     "text": [
      "[0.0]\n",
      "[0.0, 0.05]\n",
      "[0.0, 0.05, 0.1]\n",
      "[0.0, 0.05, 0.1, 0.15000000000000002]\n",
      "[0.0, 0.05, 0.1, 0.15000000000000002, 0.2]\n",
      "[0.0, 0.05, 0.1, 0.15000000000000002, 0.2, 0.25]\n",
      "[0.0, 0.05, 0.1, 0.15000000000000002, 0.2, 0.25, 0.30000000000000004]\n",
      "[0.0, 0.05, 0.1, 0.15000000000000002, 0.2, 0.25, 0.30000000000000004, 0.35000000000000003]\n",
      "[0.0, 0.05, 0.1, 0.15000000000000002, 0.2, 0.25, 0.30000000000000004, 0.35000000000000003, 0.4]\n",
      "[0.0, 0.05, 0.1, 0.15000000000000002, 0.2, 0.25, 0.30000000000000004, 0.35000000000000003, 0.4, 0.45]\n",
      "[0.0, 0.05, 0.1, 0.15000000000000002, 0.2, 0.25, 0.30000000000000004, 0.35000000000000003, 0.4, 0.45, 0.5]\n",
      "[0.0, 0.05, 0.1, 0.15000000000000002, 0.2, 0.25, 0.30000000000000004, 0.35000000000000003, 0.4, 0.45, 0.5, 0.55]\n",
      "[0.0, 0.05, 0.1, 0.15000000000000002, 0.2, 0.25, 0.30000000000000004, 0.35000000000000003, 0.4, 0.45, 0.5, 0.55, 0.6000000000000001]\n",
      "[0.0, 0.05, 0.1, 0.15000000000000002, 0.2, 0.25, 0.30000000000000004, 0.35000000000000003, 0.4, 0.45, 0.5, 0.55, 0.6000000000000001, 0.65]\n",
      "[0.0, 0.05, 0.1, 0.15000000000000002, 0.2, 0.25, 0.30000000000000004, 0.35000000000000003, 0.4, 0.45, 0.5, 0.55, 0.6000000000000001, 0.65, 0.7000000000000001]\n",
      "[0.0, 0.05, 0.1, 0.15000000000000002, 0.2, 0.25, 0.30000000000000004, 0.35000000000000003, 0.4, 0.45, 0.5, 0.55, 0.6000000000000001, 0.65, 0.7000000000000001, 0.75]\n",
      "[0.0, 0.05, 0.1, 0.15000000000000002, 0.2, 0.25, 0.30000000000000004, 0.35000000000000003, 0.4, 0.45, 0.5, 0.55, 0.6000000000000001, 0.65, 0.7000000000000001, 0.75, 0.8]\n",
      "[0.0, 0.05, 0.1, 0.15000000000000002, 0.2, 0.25, 0.30000000000000004, 0.35000000000000003, 0.4, 0.45, 0.5, 0.55, 0.6000000000000001, 0.65, 0.7000000000000001, 0.75, 0.8, 0.8500000000000001]\n",
      "[0.0, 0.05, 0.1, 0.15000000000000002, 0.2, 0.25, 0.30000000000000004, 0.35000000000000003, 0.4, 0.45, 0.5, 0.55, 0.6000000000000001, 0.65, 0.7000000000000001, 0.75, 0.8, 0.8500000000000001, 0.9]\n",
      "[0.0, 0.05, 0.1, 0.15000000000000002, 0.2, 0.25, 0.30000000000000004, 0.35000000000000003, 0.4, 0.45, 0.5, 0.55, 0.6000000000000001, 0.65, 0.7000000000000001, 0.75, 0.8, 0.8500000000000001, 0.9, 0.9500000000000001]\n"
     ]
    }
   ],
   "source": [
    "ratios, rmse = training(train_dict, actor_dir_genr_sim_matr, overview_sim_matr, mapping, 0, 0.05)"
   ]
  },
  {
   "cell_type": "code",
   "execution_count": 53,
   "metadata": {},
   "outputs": [],
   "source": [
    "def get_plot(x, y, axis_names=['x-axis','y-axis'], title = ''):\n",
    "    plt.figure(figsize=(12,5))\n",
    "    plt.plot(x, y) \n",
    "    plt.xlabel(axis_names[0])\n",
    "    plt.ylabel(axis_names[1]) \n",
    "#     plt.xlim(0.0,1)\n",
    "    xi = [0.0, 0.05, 0.1, 0.15, 0.2, 0.25, 0.30, 0.35, 0.4, 0.45, 0.5, 0.55, 0.60, 0.65, 0.70, 0.75, 0.8, 0.85, 0.9, 0.95]\n",
    "    plt.xticks(xi)\n",
    "    plt.title(title,fontweight='bold')\n",
    "    plt.grid()\n",
    "    plt.show()"
   ]
  },
  {
   "cell_type": "code",
   "execution_count": 54,
   "metadata": {},
   "outputs": [
    {
     "data": {
      "image/png": "[encoded data removed]",
      "text/plain": [
       "<Figure size 864x360 with 1 Axes>"
      ]
     },
     "metadata": {
      "needs_background": "light"
     },
     "output_type": "display_data"
    }
   ],
   "source": [
    "get_plot(ratios, rmse, axis_names=['Alpha (ratio)','RMSE'], title = 'RMSE plot for different parameter values')"
   ]
  },
  {
   "cell_type": "code",
   "execution_count": 28,
   "metadata": {},
   "outputs": [
    {
     "data": {
      "text/plain": [
       "5"
      ]
     },
     "execution_count": 28,
     "metadata": {},
     "output_type": "execute_result"
    }
   ],
   "source": [
    "rmse.index(min(rmse[1:]))"
   ]
  },
  {
   "cell_type": "code",
   "execution_count": 27,
   "metadata": {},
   "outputs": [
    {
     "data": {
      "text/plain": [
       "[nan,\n",
       " 0.966760225603386,\n",
       " 0.9643263123339494,\n",
       " 0.967903088435672,\n",
       " 0.9632195022536243,\n",
       " 0.9611016986025458,\n",
       " 0.9657089529499641,\n",
       " 0.9662738041096729,\n",
       " 0.9628256173167173,\n",
       " 0.9691485498331313,\n",
       " 0.9660886332045807,\n",
       " 0.9662689423854451,\n",
       " 0.9644853618646442,\n",
       " 0.9676144504064641,\n",
       " 0.9701441927320007,\n",
       " 0.9665797902693701,\n",
       " 0.9681548722510601,\n",
       " 0.9616118499418413,\n",
       " 0.9751075288763728,\n",
       " 0.9695276647522366]"
      ]
     },
     "execution_count": 27,
     "metadata": {},
     "output_type": "execute_result"
    }
   ],
   "source": [
    "rmse"
   ]
  },
  {
   "cell_type": "code",
   "execution_count": 29,
   "metadata": {},
   "outputs": [],
   "source": [
    "def testing(test_user_dict, sim_matr_1, sim_matr_2, mapping, alpha): \n",
    "    error = []\n",
    "    for j in test_user_dict.keys():\n",
    "        error += user_pred_errors(test_user_dict[j], alpha, sim_matr_1, sim_matr_2, mapping)\n",
    "    error = np.array(error)\n",
    "    mean_all = np.mean(error)\n",
    "    rmse = mean_all ** 0.5\n",
    "    return rmse"
   ]
  },
  {
   "cell_type": "code",
   "execution_count": 31,
   "metadata": {},
   "outputs": [],
   "source": [
    "test_rmse = testing(test_dict, actor_dir_genr_sim_matr, overview_sim_matr, mapping, 0.25)"
   ]
  },
  {
   "cell_type": "code",
   "execution_count": 32,
   "metadata": {},
   "outputs": [
    {
     "data": {
      "text/plain": [
       "0.9409632226727233"
      ]
     },
     "execution_count": 32,
     "metadata": {},
     "output_type": "execute_result"
    }
   ],
   "source": [
    "test_rmse"
   ]
  },
  {
   "cell_type": "code",
   "execution_count": null,
   "metadata": {},
   "outputs": [],
   "source": []
  }
 ],
 "metadata": {
  "kernelspec": {
   "display_name": "Python 3",
   "language": "python",
   "name": "python3"
  },
  "language_info": {
   "codemirror_mode": {
    "name": "ipython",
    "version": 3
   },
   "file_extension": ".py",
   "mimetype": "text/x-python",
   "name": "python",
   "nbconvert_exporter": "python",
   "pygments_lexer": "ipython3",
   "version": "3.6.8"
  }
 },
 "nbformat": 4,
 "nbformat_minor": 2
}
